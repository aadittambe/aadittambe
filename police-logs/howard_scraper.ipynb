{
 "cells": [
  {
   "cell_type": "code",
   "execution_count": null,
   "id": "demanding-notification",
   "metadata": {},
   "outputs": [],
   "source": [
    "\n",
    "import selenium\n",
    "from selenium import webdriver\n",
    "from selenium.webdriver.chrome.options import Options\n",
    "from selenium.webdriver.support import expected_conditions as EC\n",
    "from selenium.webdriver.support.ui import WebDriverWait\n",
    "from selenium.webdriver.common.by import By\n",
    "import requests\n",
    "from bs4 import BeautifulSoup\n",
    "from selenium.webdriver.common.keys import Keys\n",
    "from datetime import datetime\n",
    "from datetime import timedelta\n",
    "import tabula\n",
    "from tabula.io import read_pdf\n",
    "from tabula.io import convert_into\n",
    "\n",
    "\n",
    "from datetime import date\n",
    "import csv\n",
    "import pandas as pd\n",
    "import time\n",
    "import json\n",
    "import fnmatch\n",
    "import os"
   ]
  },
  {
   "cell_type": "code",
   "execution_count": null,
   "id": "demonstrated-depth",
   "metadata": {},
   "outputs": [],
   "source": [
    "# get the linnks we want\n",
    "url = \"https://publicsafety.howard.edu/about/crime-stats\"\n",
    "page = requests.get(url)\n",
    "soup = BeautifulSoup(page.text, 'html.parser')\n",
    "# ls_id = soup.find(id=\"tab1631541161195_1\")\n",
    "# ls_rows \n",
    "\n",
    "item = soup.find_all('section', attrs={'class': 'hp_button_link hp_button_link--fancy_link'})\n",
    "item2 = item[2]\n",
    "\n",
    "final = item2.find_all(\"a\")\n",
    "\n",
    "final_links = []\n",
    "var = 'https://publicsafety.howard.edu/'\n",
    "\n",
    "for link in final:\n",
    "    href = (link[\"href\"])\n",
    "    if href.startswith('https://publicsafety.howard.edu/'):\n",
    "        final_links.append(href)\n",
    "#         print(final_links)\n",
    "    elif href.startswith('/sites/'):\n",
    "#         print('---')\n",
    "        final_href = var + href\n",
    "#         print(final_href)\n",
    "#         print('---')\n",
    "        final_links.append(final_href)\n",
    "        print(final_links)\n",
    "        print('---')"
   ]
  },
  {
   "cell_type": "code",
   "execution_count": null,
   "id": "painful-slave",
   "metadata": {},
   "outputs": [],
   "source": [
    "# download pdfs\n",
    "counter = 0 \n",
    "for i in final_links:\n",
    "    counter = counter +1\n",
    "#     print(counter)\n",
    "    g = requests.get(i, stream=True)\n",
    "    with open(f'../data/handmade/howard/pdfs/scraped_report_{counter}.pdf', 'wb') as sav:\n",
    "        for chunk in g.iter_content(chunk_size=1000000):\n",
    "            sav.write(chunk)"
   ]
  },
  {
   "cell_type": "code",
   "execution_count": null,
   "id": "characteristic-skating",
   "metadata": {},
   "outputs": [],
   "source": [
    "# convert\n",
    "\n",
    "#import tabula\n",
    "\n",
    "\n",
    "directory = r'../data/handmade/howard/pdfs/'\n",
    "directory_output = r'../data/handmade/howard/csvs/'\n",
    "count = 0\n",
    "for file in os.listdir(directory):\n",
    "    if file.endswith(\".pdf\"):\n",
    "        count = count + 1\n",
    "#         print(count)\n",
    "#         print(file)\n",
    "        tabula.io.convert_into(f'{directory}{file}', f'{directory_output}{count}.csv', output_format=\"csv\", pages='all')"
   ]
  }
 ],
 "metadata": {
  "kernelspec": {
   "display_name": "Python 3",
   "language": "python",
   "name": "python3"
  },
  "language_info": {
   "codemirror_mode": {
    "name": "ipython",
    "version": 3
   },
   "file_extension": ".py",
   "mimetype": "text/x-python",
   "name": "python",
   "nbconvert_exporter": "python",
   "pygments_lexer": "ipython3",
   "version": "3.9.7"
  }
 },
 "nbformat": 4,
 "nbformat_minor": 5
}
